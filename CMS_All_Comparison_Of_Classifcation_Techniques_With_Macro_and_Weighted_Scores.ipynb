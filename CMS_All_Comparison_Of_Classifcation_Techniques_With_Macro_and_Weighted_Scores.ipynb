{
 "cells": [
  {
   "cell_type": "code",
   "execution_count": 1,
   "metadata": {
    "collapsed": true
   },
   "outputs": [],
   "source": [
    "#CMS_All_Comparison_Of_Classifcation_Techniques_With_Macro_and_Weighted_Scores"
   ]
  },
  {
   "cell_type": "code",
   "execution_count": 2,
   "metadata": {
    "collapsed": true
   },
   "outputs": [],
   "source": [
    "import pickle\n",
    "import numpy as np\n",
    "import warnings;\n",
    "warnings.filterwarnings('ignore');\n",
    "from sklearn.neural_network import MLPClassifier\n",
    "from sklearn.model_selection import train_test_split,StratifiedKFold\n",
    "from sklearn.metrics import accuracy_score\n",
    "from sklearn.metrics import precision_score\n",
    "from sklearn.metrics import recall_score\n",
    "from sklearn.metrics import f1_score"
   ]
  },
  {
   "cell_type": "code",
   "execution_count": 3,
   "metadata": {
    "collapsed": true
   },
   "outputs": [],
   "source": [
    "x = pickle.load( open( \"CMS_ALL_Dataset_x.p\", \"rb\" ) )\n",
    "y = pickle.load( open( \"CMS_ALL_Dataset_y.p\", \"rb\" ) )"
   ]
  },
  {
   "cell_type": "code",
   "execution_count": 4,
   "metadata": {
    "collapsed": true
   },
   "outputs": [],
   "source": [
    "def eval(model, data, target,nkf, score = lambda y,yp: np.mean(y==yp) ):\n",
    "  \n",
    "    v_accuracy_score = 0\n",
    "    v_precision_macro_score=0\n",
    "    v_recall_macro_score=0\n",
    "    v_f1_macro_score=0\n",
    "    v_precision_weighted_score=0\n",
    "    v_recall_weighted_score=0\n",
    "    v_f1_weighted_score=0\n",
    "\n",
    "    # 10 StratifiedKFold with shuffling\n",
    "    kf =StratifiedKFold(n_splits=nkf,shuffle=True)\n",
    "    for ind_train, ind_test in kf.split(data,target):\n",
    "        \n",
    "        #Model Train\n",
    "        model.fit(data[ind_train],target[ind_train])\n",
    "        \n",
    "        #Model Test Prediction\n",
    "        ypred = model.predict(data[ind_test])\n",
    "\n",
    "        #Model Accuracy Test\n",
    "        v_accuracy_score += score(target[ind_test],ypred)\n",
    "\n",
    "        #Model Precision,Recall,F1 Score with Macro Avarage Test\n",
    "        v_precision_macro_score+=precision_score(target[ind_test], ypred, labels=[1,2,3,4], average='macro')\n",
    "        v_recall_macro_score+=recall_score(target[ind_test], ypred, labels=[1,2,3,4], average='macro')\n",
    "        v_f1_macro_score+=f1_score(target[ind_test], ypred, labels=[1,2,3,4], average='macro')\n",
    "\n",
    "        #Model Precision,Recall,F1 Score with Weighted Avarage Test\n",
    "        v_precision_weighted_score+=precision_score(target[ind_test], ypred, labels=[1,2,3,4], average='weighted')\n",
    "        v_recall_weighted_score+=recall_score(target[ind_test], ypred, labels=[1,2,3,4], average='weighted')\n",
    "        v_f1_weighted_score+=f1_score(target[ind_test], ypred, labels=[1,2,3,4], average='weighted')\n",
    "\n",
    "    # Mean of Test scores\n",
    "    v_accuracy_score=v_accuracy_score/nkf\n",
    "    v_precision_macro_score=v_precision_macro_score/nkf\n",
    "    v_recall_macro_score=v_recall_macro_score/nkf\n",
    "    v_f1_macro_score=v_f1_macro_score/nkf\n",
    "    v_precision_weighted_score=v_precision_weighted_score/nkf\n",
    "    v_recall_weighted_score=v_recall_weighted_score/nkf\n",
    "    v_f1_weighted_score=v_f1_weighted_score/nkf\n",
    "    \n",
    "    return (v_accuracy_score,v_precision_macro_score,v_recall_macro_score,v_f1_macro_score,v_precision_weighted_score,v_recall_weighted_score,v_f1_weighted_score,model)"
   ]
  },
  {
   "cell_type": "code",
   "execution_count": 5,
   "metadata": {
    "collapsed": true
   },
   "outputs": [],
   "source": [
    "from sklearn.linear_model import LogisticRegression\n",
    "from sklearn.tree import DecisionTreeClassifier\n",
    "from sklearn.neighbors import KNeighborsClassifier\n",
    "from sklearn.discriminant_analysis import LinearDiscriminantAnalysis\n",
    "from sklearn.svm import SVC\n",
    "from sklearn.ensemble import RandomForestClassifier\n"
   ]
  },
  {
   "cell_type": "code",
   "execution_count": 6,
   "metadata": {},
   "outputs": [
    {
     "name": "stdout",
     "output_type": "stream",
     "text": [
      "-----------------------------------------------------------------------------------------------------------------------------\n",
      " Classification                  Accuracy    Precision   Recall      F1 Score    Precision   Recall      F1 Score  \n",
      " Technique                                   Macro       Macro       Macro       Weighted    Weighted    Weighted  \n",
      "-----------------------------------------------------------------------------------------------------------------------------\n",
      " LR                              0.866        0.887      0.673       0.729       0.876        0.866        0.856     \n",
      "-----------------------------------------------------------------------------------------------------------------------------\n",
      " MLP                             0.886        0.832      0.755       0.778       0.887        0.886        0.882     \n",
      "-----------------------------------------------------------------------------------------------------------------------------\n",
      " KNN                             0.779        0.685      0.596       0.613       0.778        0.779        0.772     \n",
      "-----------------------------------------------------------------------------------------------------------------------------\n",
      " CART                            0.851        0.793      0.691       0.717       0.854        0.851        0.846     \n",
      "-----------------------------------------------------------------------------------------------------------------------------\n",
      " SVM                             0.647        0.407      0.295       0.267       0.662        0.647        0.544     \n",
      "-----------------------------------------------------------------------------------------------------------------------------\n",
      " RF                              0.855        0.792      0.701       0.726       0.859        0.855        0.851     \n",
      "-----------------------------------------------------------------------------------------------------------------------------\n"
     ]
    }
   ],
   "source": [
    "# Print Results\n",
    "dash = '-' * 125\n",
    "print(dash)\n",
    "print(' {:<30s}  {:<10}  {:<10}  {:<10s}  {:<10}  {:<10s}  {:<10s}  {:<10s}'.format('Classification','Accuracy','Precision','Recall','F1 Score','Precision','Recall','F1 Score'))\n",
    "print(' {:<30s}  {:<10}  {:<10}  {:<10s}  {:<10}  {:<10s}  {:<10s}  {:<10s}'.format('Technique','','Macro','Macro','Macro','Weighted','Weighted','Weighted'))\n",
    "print(dash)\n",
    "clf=LogisticRegression()\n",
    "result=eval(clf, x,y,10)\n",
    "print(' {:<30s}  {:<12.3f} {:<10.3f} {:<11.3f} {:<11.3} {:<12.3f} {:<12.3f} {:<10.3f}'.format('LR',result[0],result[1],result[2],result[3],result[4],result[5],result[6]))\n",
    "print(dash)\n",
    "clf=MLPClassifier()\n",
    "result=eval(clf, x,y,10)\n",
    "print(' {:<30s}  {:<12.3f} {:<10.3f} {:<11.3f} {:<11.3} {:<12.3f} {:<12.3f} {:<10.3f}'.format('MLP',result[0],result[1],result[2],result[3],result[4],result[5],result[6]))\n",
    "print(dash)\n",
    "clf=KNeighborsClassifier()\n",
    "result=eval(clf, x,y,10)\n",
    "print(' {:<30s}  {:<12.3f} {:<10.3f} {:<11.3f} {:<11.3} {:<12.3f} {:<12.3f} {:<10.3f}'.format('KNN',result[0],result[1],result[2],result[3],result[4],result[5],result[6]))\n",
    "print(dash)\n",
    "clf=DecisionTreeClassifier()\n",
    "result=eval(clf, x,y,10)\n",
    "print(' {:<30s}  {:<12.3f} {:<10.3f} {:<11.3f} {:<11.3} {:<12.3f} {:<12.3f} {:<10.3f}'.format('CART',result[0],result[1],result[2],result[3],result[4],result[5],result[6]))\n",
    "print(dash)\n",
    "clf=SVC()\n",
    "result=eval(clf, x,y,10)\n",
    "print(' {:<30s}  {:<12.3f} {:<10.3f} {:<11.3f} {:<11.3} {:<12.3f} {:<12.3f} {:<10.3f}'.format('SVM',result[0],result[1],result[2],result[3],result[4],result[5],result[6]))\n",
    "print(dash)\n",
    "clf=RandomForestClassifier()\n",
    "result=eval(clf, x,y,10)\n",
    "print(' {:<30s}  {:<12.3f} {:<10.3f} {:<11.3f} {:<11.3} {:<12.3f} {:<12.3f} {:<10.3f}'.format('RF',result[0],result[1],result[2],result[3],result[4],result[5],result[6]))\n",
    "print(dash)\n",
    "\n"
   ]
  },
  {
   "cell_type": "code",
   "execution_count": null,
   "metadata": {},
   "outputs": [],
   "source": []
  },
  {
   "cell_type": "code",
   "execution_count": null,
   "metadata": {},
   "outputs": [],
   "source": []
  },
  {
   "cell_type": "code",
   "execution_count": null,
   "metadata": {
    "collapsed": true
   },
   "outputs": [],
   "source": []
  }
 ],
 "metadata": {
  "kernelspec": {
   "display_name": "Python 3",
   "language": "python",
   "name": "python3"
  },
  "language_info": {
   "codemirror_mode": {
    "name": "ipython",
    "version": 3
   },
   "file_extension": ".py",
   "mimetype": "text/x-python",
   "name": "python",
   "nbconvert_exporter": "python",
   "pygments_lexer": "ipython3",
   "version": "3.6.3"
  }
 },
 "nbformat": 4,
 "nbformat_minor": 2
}
