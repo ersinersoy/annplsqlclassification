{
 "cells": [
  {
   "cell_type": "code",
   "execution_count": 1,
   "metadata": {
    "collapsed": true
   },
   "outputs": [],
   "source": [
    "# Our Study is performed using GridSearchCV. Sample code of our study is shown on CRM_ALL_Part2_Sample.ipynb \n",
    "#This notebook is preperad to reproduce 10 StratifiedKFold for Single candidate on CMS-ALL Dataset"
   ]
  },
  {
   "cell_type": "code",
   "execution_count": 2,
   "metadata": {
    "collapsed": true
   },
   "outputs": [],
   "source": [
    "import pickle\n",
    "import numpy as np\n",
    "from sklearn.neural_network import MLPClassifier\n",
    "from sklearn.model_selection import train_test_split,StratifiedKFold\n",
    "from sklearn.metrics import accuracy_score\n",
    "from sklearn.metrics import precision_score\n",
    "from sklearn.metrics import recall_score\n",
    "from sklearn.metrics import f1_score"
   ]
  },
  {
   "cell_type": "code",
   "execution_count": 3,
   "metadata": {
    "collapsed": true
   },
   "outputs": [],
   "source": [
    "x = pickle.load( open( \"CMS_ALL_Dataset_x.p\", \"rb\" ) )\n",
    "y = pickle.load( open( \"CMS_ALL_Dataset_y.p\", \"rb\" ) )"
   ]
  },
  {
   "cell_type": "code",
   "execution_count": 4,
   "metadata": {
    "collapsed": true
   },
   "outputs": [],
   "source": [
    "def eval(model, data, target,nkf, score = lambda y,yp: np.mean(y==yp) ):\n",
    "  \n",
    "    v_accuracy_score = 0\n",
    "    v_precision_macro_score=0\n",
    "    v_recall_macro_score=0\n",
    "    v_f1_macro_score=0\n",
    "    v_precision_weighted_score=0\n",
    "    v_recall_weighted_score=0\n",
    "    v_f1_weighted_score=0\n",
    "\n",
    "    # 10 StratifiedKFold with shuffling\n",
    "    kf =StratifiedKFold(n_splits=nkf,shuffle=True)\n",
    "    for ind_train, ind_test in kf.split(data,target):\n",
    "        \n",
    "        #Model Train\n",
    "        model.fit(data[ind_train],target[ind_train])\n",
    "        \n",
    "        #Model Test Prediction\n",
    "        ypred = model.predict(data[ind_test])\n",
    "\n",
    "        #Model Accuracy Test\n",
    "        v_accuracy_score += score(target[ind_test],ypred)\n",
    "\n",
    "        #Model Precision,Recall,F1 Score with Macro Avarage Test\n",
    "        v_precision_macro_score+=precision_score(target[ind_test], ypred, labels=[1,2,3,4], average='macro')\n",
    "        v_recall_macro_score+=recall_score(target[ind_test], ypred, labels=[1,2,3,4], average='macro')\n",
    "        v_f1_macro_score+=f1_score(target[ind_test], ypred, labels=[1,2,3,4], average='macro')\n",
    "\n",
    "        #Model Precision,Recall,F1 Score with Weighted Avarage Test\n",
    "        v_precision_weighted_score+=precision_score(target[ind_test], ypred, labels=[1,2,3,4], average='weighted')\n",
    "        v_recall_weighted_score+=recall_score(target[ind_test], ypred, labels=[1,2,3,4], average='weighted')\n",
    "        v_f1_weighted_score+=f1_score(target[ind_test], ypred, labels=[1,2,3,4], average='weighted')\n",
    "\n",
    "    # Mean of Test scores\n",
    "    v_accuracy_score=v_accuracy_score/nkf\n",
    "    v_precision_macro_score=v_precision_macro_score/nkf\n",
    "    v_recall_macro_score=v_recall_macro_score/nkf\n",
    "    v_f1_macro_score=v_f1_macro_score/nkf\n",
    "    v_precision_weighted_score=v_precision_weighted_score/nkf\n",
    "    v_recall_weighted_score=v_recall_weighted_score/nkf\n",
    "    v_f1_weighted_score=v_f1_weighted_score/nkf\n",
    "    \n",
    "    return (v_accuracy_score,v_precision_macro_score,v_recall_macro_score,v_f1_macro_score,v_precision_weighted_score,v_recall_weighted_score,v_f1_weighted_score,model)"
   ]
  },
  {
   "cell_type": "code",
   "execution_count": 5,
   "metadata": {
    "collapsed": true
   },
   "outputs": [],
   "source": [
    "# Hyper Parameters(Hidden layers & Number of neoruns in each layer, Alpha,Activation function) For CMS-ALL. \n",
    "\n",
    "iHiddenLayers=(1000,500)\n",
    "iAlpha=0.0001\n",
    "iActivationFunction='logistic'\n",
    "\n"
   ]
  },
  {
   "cell_type": "code",
   "execution_count": 6,
   "metadata": {},
   "outputs": [
    {
     "name": "stdout",
     "output_type": "stream",
     "text": [
      "-----------------------------------------------------------------------------------------------------------------------------\n",
      " Parameters(Hidden Layers        Accuracy    Precision   Recall      F1 Score    Precision   Recall      F1 Score  \n",
      " ,alpha,Activation func.)                    Macro       Macro       Macro       Weighted    Weighted    Weighted  \n",
      "-----------------------------------------------------------------------------------------------------------------------------\n",
      " (1000, 500) 0.0001 logistic     0.864        0.808      0.728       0.746       0.871        0.864        0.860     \n"
     ]
    }
   ],
   "source": [
    "# MLPClassifier parameters are setted.\n",
    "clf = MLPClassifier(hidden_layer_sizes=iHiddenLayers,max_iter=500,alpha=iAlpha,activation=iActivationFunction)\n",
    "\n",
    "# 10-StratifiedKFold for Candidate iHiddenLayers,iAlpha,iActivationFunction\n",
    "result=eval(clf, x,y,10)\n",
    "\n",
    "# Print Results\n",
    "dash = '-' * 125\n",
    "print(dash)\n",
    "print(' {:<30s}  {:<10}  {:<10}  {:<10s}  {:<10}  {:<10s}  {:<10s}  {:<10s}'.format('Parameters(Hidden Layers','Accuracy','Precision','Recall','F1 Score','Precision','Recall','F1 Score'))\n",
    "print(' {:<30s}  {:<10}  {:<10}  {:<10s}  {:<10}  {:<10s}  {:<10s}  {:<10s}'.format(',alpha,Activation func.)','','Macro','Macro','Macro','Weighted','Weighted','Weighted'))\n",
    "print(dash)\n",
    "print(' {:<30s}  {:<12.3f} {:<10.3f} {:<11.3f} {:<11.3} {:<12.3f} {:<12.3f} {:<10.3f}'.format(str(result[7].hidden_layer_sizes)+' '+str(result[7].alpha)+' '+result[7].activation,result[0],result[1],result[2],result[3],result[4],result[5],result[6]))\n",
    "\n"
   ]
  },
  {
   "cell_type": "code",
   "execution_count": 7,
   "metadata": {},
   "outputs": [
    {
     "data": {
      "text/plain": [
       "MLPClassifier(activation='logistic', alpha=0.0001, batch_size='auto',\n",
       "       beta_1=0.9, beta_2=0.999, early_stopping=False, epsilon=1e-08,\n",
       "       hidden_layer_sizes=(1000, 500), learning_rate='constant',\n",
       "       learning_rate_init=0.001, max_iter=500, momentum=0.9,\n",
       "       nesterovs_momentum=True, power_t=0.5, random_state=None,\n",
       "       shuffle=True, solver='adam', tol=0.0001, validation_fraction=0.1,\n",
       "       verbose=False, warm_start=False)"
      ]
     },
     "execution_count": 7,
     "metadata": {},
     "output_type": "execute_result"
    }
   ],
   "source": [
    "# ANN Model\n",
    "ANNModel=result[7]\n",
    "ANNModel"
   ]
  },
  {
   "cell_type": "code",
   "execution_count": null,
   "metadata": {
    "collapsed": true
   },
   "outputs": [],
   "source": []
  },
  {
   "cell_type": "code",
   "execution_count": null,
   "metadata": {
    "collapsed": true
   },
   "outputs": [],
   "source": []
  }
 ],
 "metadata": {
  "kernelspec": {
   "display_name": "Python 3",
   "language": "python",
   "name": "python3"
  },
  "language_info": {
   "codemirror_mode": {
    "name": "ipython",
    "version": 3
   },
   "file_extension": ".py",
   "mimetype": "text/x-python",
   "name": "python",
   "nbconvert_exporter": "python",
   "pygments_lexer": "ipython3",
   "version": "3.6.3"
  }
 },
 "nbformat": 4,
 "nbformat_minor": 2
}
