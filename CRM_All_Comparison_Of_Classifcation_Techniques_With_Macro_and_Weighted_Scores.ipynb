{
 "cells": [
  {
   "cell_type": "code",
   "execution_count": 1,
   "metadata": {
    "collapsed": true
   },
   "outputs": [],
   "source": [
    "#CRM_All_Comparison_Of_Classifcation_Techniques_With_Macro_and_Weighted_Scores"
   ]
  },
  {
   "cell_type": "code",
   "execution_count": 2,
   "metadata": {
    "collapsed": true
   },
   "outputs": [],
   "source": [
    "import pickle\n",
    "import numpy as np\n",
    "import warnings;\n",
    "warnings.filterwarnings('ignore');\n",
    "from sklearn.neural_network import MLPClassifier\n",
    "from sklearn.model_selection import train_test_split,StratifiedKFold\n",
    "from sklearn.metrics import accuracy_score\n",
    "from sklearn.metrics import precision_score\n",
    "from sklearn.metrics import recall_score\n",
    "from sklearn.metrics import f1_score"
   ]
  },
  {
   "cell_type": "code",
   "execution_count": 3,
   "metadata": {
    "collapsed": true
   },
   "outputs": [],
   "source": [
    "x = pickle.load( open( \"CRM_ALL_Dataset_x.p\", \"rb\" ) )\n",
    "y = pickle.load( open( \"CRM_ALL_Dataset_y.p\", \"rb\" ) )"
   ]
  },
  {
   "cell_type": "code",
   "execution_count": 4,
   "metadata": {
    "collapsed": true
   },
   "outputs": [],
   "source": [
    "def eval(model, data, target,nkf, score = lambda y,yp: np.mean(y==yp) ):\n",
    "  \n",
    "    v_accuracy_score = 0\n",
    "    v_precision_macro_score=0\n",
    "    v_recall_macro_score=0\n",
    "    v_f1_macro_score=0\n",
    "    v_precision_weighted_score=0\n",
    "    v_recall_weighted_score=0\n",
    "    v_f1_weighted_score=0\n",
    "\n",
    "    # 10 StratifiedKFold with shuffling\n",
    "    kf =StratifiedKFold(n_splits=nkf,shuffle=True)\n",
    "    for ind_train, ind_test in kf.split(data,target):\n",
    "        \n",
    "        #Model Train\n",
    "        model.fit(data[ind_train],target[ind_train])\n",
    "        \n",
    "        #Model Test Prediction\n",
    "        ypred = model.predict(data[ind_test])\n",
    "\n",
    "        #Model Accuracy Test\n",
    "        v_accuracy_score += score(target[ind_test],ypred)\n",
    "\n",
    "        #Model Precision,Recall,F1 Score with Macro Avarage Test\n",
    "        v_precision_macro_score+=precision_score(target[ind_test], ypred, labels=[1,2,3,4,5,6], average='macro')\n",
    "        v_recall_macro_score+=recall_score(target[ind_test], ypred, labels=[1,2,3,4,5,6], average='macro')\n",
    "        v_f1_macro_score+=f1_score(target[ind_test], ypred, labels=[1,2,3,4,5,6], average='macro')\n",
    "\n",
    "        #Model Precision,Recall,F1 Score with Weighted Avarage Test\n",
    "        v_precision_weighted_score+=precision_score(target[ind_test], ypred, labels=[1,2,3,4,5,6], average='weighted')\n",
    "        v_recall_weighted_score+=recall_score(target[ind_test], ypred, labels=[1,2,3,4,5,6], average='weighted')\n",
    "        v_f1_weighted_score+=f1_score(target[ind_test], ypred, labels=[1,2,3,4,5,6], average='weighted')\n",
    "\n",
    "    # Mean of Test scores\n",
    "    v_accuracy_score=v_accuracy_score/nkf\n",
    "    v_precision_macro_score=v_precision_macro_score/nkf\n",
    "    v_recall_macro_score=v_recall_macro_score/nkf\n",
    "    v_f1_macro_score=v_f1_macro_score/nkf\n",
    "    v_precision_weighted_score=v_precision_weighted_score/nkf\n",
    "    v_recall_weighted_score=v_recall_weighted_score/nkf\n",
    "    v_f1_weighted_score=v_f1_weighted_score/nkf\n",
    "    \n",
    "    return (v_accuracy_score,v_precision_macro_score,v_recall_macro_score,v_f1_macro_score,v_precision_weighted_score,v_recall_weighted_score,v_f1_weighted_score,model)"
   ]
  },
  {
   "cell_type": "code",
   "execution_count": 5,
   "metadata": {
    "collapsed": true
   },
   "outputs": [],
   "source": [
    "from sklearn.linear_model import LogisticRegression\n",
    "from sklearn.tree import DecisionTreeClassifier\n",
    "from sklearn.neighbors import KNeighborsClassifier\n",
    "from sklearn.discriminant_analysis import LinearDiscriminantAnalysis\n",
    "from sklearn.svm import SVC\n",
    "from sklearn.ensemble import RandomForestClassifier\n"
   ]
  },
  {
   "cell_type": "code",
   "execution_count": 6,
   "metadata": {},
   "outputs": [
    {
     "name": "stdout",
     "output_type": "stream",
     "text": [
      "-----------------------------------------------------------------------------------------------------------------------------\n",
      " Classification                  Accuracy    Precision   Recall      F1 Score    Precision   Recall      F1 Score  \n",
      " Technique                                   Macro       Macro       Macro       Weighted    Weighted    Weighted  \n",
      "-----------------------------------------------------------------------------------------------------------------------------\n",
      " LR                              0.815        0.795      0.545       0.603       0.813        0.815        0.790     \n",
      "-----------------------------------------------------------------------------------------------------------------------------\n",
      " MLP                             0.854        0.771      0.653       0.684       0.851        0.854        0.843     \n",
      "-----------------------------------------------------------------------------------------------------------------------------\n",
      " KNN                             0.765        0.639      0.459       0.488       0.758        0.765        0.737     \n",
      "-----------------------------------------------------------------------------------------------------------------------------\n",
      " CART                            0.806        0.679      0.581       0.611       0.796        0.806        0.794     \n",
      "-----------------------------------------------------------------------------------------------------------------------------\n",
      " SVM                             0.524        0.185      0.177       0.133       0.437        0.524        0.380     \n",
      "-----------------------------------------------------------------------------------------------------------------------------\n",
      " RF                              0.820        0.778      0.586       0.636       0.819        0.820        0.803     \n",
      "-----------------------------------------------------------------------------------------------------------------------------\n"
     ]
    }
   ],
   "source": [
    "# Print Results\n",
    "dash = '-' * 125\n",
    "print(dash)\n",
    "print(' {:<30s}  {:<10}  {:<10}  {:<10s}  {:<10}  {:<10s}  {:<10s}  {:<10s}'.format('Classification','Accuracy','Precision','Recall','F1 Score','Precision','Recall','F1 Score'))\n",
    "print(' {:<30s}  {:<10}  {:<10}  {:<10s}  {:<10}  {:<10s}  {:<10s}  {:<10s}'.format('Technique','','Macro','Macro','Macro','Weighted','Weighted','Weighted'))\n",
    "print(dash)\n",
    "clf=LogisticRegression()\n",
    "result=eval(clf, x,y,10)\n",
    "print(' {:<30s}  {:<12.3f} {:<10.3f} {:<11.3f} {:<11.3} {:<12.3f} {:<12.3f} {:<10.3f}'.format('LR',result[0],result[1],result[2],result[3],result[4],result[5],result[6]))\n",
    "print(dash)\n",
    "clf=MLPClassifier()\n",
    "result=eval(clf, x,y,10)\n",
    "print(' {:<30s}  {:<12.3f} {:<10.3f} {:<11.3f} {:<11.3} {:<12.3f} {:<12.3f} {:<10.3f}'.format('MLP',result[0],result[1],result[2],result[3],result[4],result[5],result[6]))\n",
    "print(dash)\n",
    "clf=KNeighborsClassifier()\n",
    "result=eval(clf, x,y,10)\n",
    "print(' {:<30s}  {:<12.3f} {:<10.3f} {:<11.3f} {:<11.3} {:<12.3f} {:<12.3f} {:<10.3f}'.format('KNN',result[0],result[1],result[2],result[3],result[4],result[5],result[6]))\n",
    "print(dash)\n",
    "clf=DecisionTreeClassifier()\n",
    "result=eval(clf, x,y,10)\n",
    "print(' {:<30s}  {:<12.3f} {:<10.3f} {:<11.3f} {:<11.3} {:<12.3f} {:<12.3f} {:<10.3f}'.format('CART',result[0],result[1],result[2],result[3],result[4],result[5],result[6]))\n",
    "print(dash)\n",
    "clf=SVC()\n",
    "result=eval(clf, x,y,10)\n",
    "print(' {:<30s}  {:<12.3f} {:<10.3f} {:<11.3f} {:<11.3} {:<12.3f} {:<12.3f} {:<10.3f}'.format('SVM',result[0],result[1],result[2],result[3],result[4],result[5],result[6]))\n",
    "print(dash)\n",
    "clf=RandomForestClassifier()\n",
    "result=eval(clf, x,y,10)\n",
    "print(' {:<30s}  {:<12.3f} {:<10.3f} {:<11.3f} {:<11.3} {:<12.3f} {:<12.3f} {:<10.3f}'.format('RF',result[0],result[1],result[2],result[3],result[4],result[5],result[6]))\n",
    "print(dash)\n",
    "\n"
   ]
  },
  {
   "cell_type": "code",
   "execution_count": null,
   "metadata": {
    "collapsed": true
   },
   "outputs": [],
   "source": []
  },
  {
   "cell_type": "code",
   "execution_count": null,
   "metadata": {
    "collapsed": true
   },
   "outputs": [],
   "source": []
  }
 ],
 "metadata": {
  "kernelspec": {
   "display_name": "Python 3",
   "language": "python",
   "name": "python3"
  },
  "language_info": {
   "codemirror_mode": {
    "name": "ipython",
    "version": 3
   },
   "file_extension": ".py",
   "mimetype": "text/x-python",
   "name": "python",
   "nbconvert_exporter": "python",
   "pygments_lexer": "ipython3",
   "version": "3.6.3"
  }
 },
 "nbformat": 4,
 "nbformat_minor": 2
}
